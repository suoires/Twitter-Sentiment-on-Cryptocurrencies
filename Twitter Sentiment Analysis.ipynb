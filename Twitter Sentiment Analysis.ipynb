{
 "cells": [
  {
   "cell_type": "markdown",
   "metadata": {},
   "source": [
    "### Demo on TextBlob packages:"
   ]
  },
  {
   "cell_type": "code",
   "execution_count": 1,
   "metadata": {
    "collapsed": true
   },
   "outputs": [],
   "source": [
    "import nltk\n",
    "from textblob import TextBlob\n",
    "# since TextBlob is built on nltk, we need to download the required data from nltk for this package:\n",
    "# python -m textblob.download_corpora"
   ]
  },
  {
   "cell_type": "code",
   "execution_count": 2,
   "metadata": {},
   "outputs": [
    {
     "data": {
      "text/plain": [
       "[('I', 'PRP'),\n",
       " ('hate', 'VBP'),\n",
       " ('vegetables', 'NNS'),\n",
       " ('so', 'RB'),\n",
       " ('much', 'RB')]"
      ]
     },
     "execution_count": 2,
     "metadata": {},
     "output_type": "execute_result"
    }
   ],
   "source": [
    "text = TextBlob(\"I hate vegetables so much!\")\n",
    "#access the attribute of each word\n",
    "text.tags"
   ]
  },
  {
   "cell_type": "code",
   "execution_count": 3,
   "metadata": {},
   "outputs": [
    {
     "data": {
      "text/plain": [
       "WordList(['I', 'hate', 'vegetables', 'so', 'much'])"
      ]
     },
     "execution_count": 3,
     "metadata": {},
     "output_type": "execute_result"
    }
   ],
   "source": [
    "text.words"
   ]
  },
  {
   "cell_type": "code",
   "execution_count": 4,
   "metadata": {},
   "outputs": [
    {
     "data": {
      "text/plain": [
       "Sentiment(polarity=-0.275, subjectivity=0.55)"
      ]
     },
     "execution_count": 4,
     "metadata": {},
     "output_type": "execute_result"
    }
   ],
   "source": [
    "# get the sentiment polarity and subjectivity from the text:\n",
    "text.sentiment"
   ]
  },
  {
   "cell_type": "code",
   "execution_count": 5,
   "metadata": {},
   "outputs": [
    {
     "data": {
      "text/plain": [
       "Sentiment(polarity=0.0, subjectivity=0.0)"
      ]
     },
     "execution_count": 5,
     "metadata": {},
     "output_type": "execute_result"
    }
   ],
   "source": [
    "# control test on a neutral, objective sentence:\n",
    "text2 = TextBlob(\"Mars is a red planet that has water\")\n",
    "text2.sentiment"
   ]
  },
  {
   "cell_type": "markdown",
   "metadata": {},
   "source": [
    "It seems like TextBlob can correctly identify the polarity and subjectivity of the above 2 samples. Let's proceed to our sentiment analysis on cryptocurrency tweets. In this analysis, I want to examine the twitter sentiment on the most popular cryptocurrencies in the last month. The top 10 cryptocurrencies were evaluated and ranked based on coinmarketcap.com as of 2/11/2018."
   ]
  },
  {
   "cell_type": "markdown",
   "metadata": {},
   "source": [
    "### Twitter sentiment analysis:"
   ]
  },
  {
   "cell_type": "code",
   "execution_count": 6,
   "metadata": {
    "collapsed": true
   },
   "outputs": [],
   "source": [
    "import tweepy\n",
    "import matplotlib.pylab as plt\n",
    "import pandas as pd\n",
    "import numpy as np\n",
    "from datetime import datetime, timedelta"
   ]
  },
  {
   "cell_type": "code",
   "execution_count": 7,
   "metadata": {
    "collapsed": true
   },
   "outputs": [],
   "source": [
    "# retrive keys and tokens from twitter api\n",
    "consumer_key = \"ENTER_COMSUMER_KEY\"\n",
    "consumer_secret = \"ENTER_COMSUMER_SECRET\"\n",
    "access_token = \"ENTER_ACCESS_TOKEN\"\n",
    "access_tokent_secret = \"ENTER_TOKENT_SECRET\""
   ]
  },
  {
   "cell_type": "code",
   "execution_count": 8,
   "metadata": {
    "collapsed": true
   },
   "outputs": [],
   "source": [
    "auth = tweepy.OAuthHandler(consumer_key, consumer_secret)\n",
    "auth.set_access_token(access_token, access_tokent_secret)\n",
    "api = tweepy.API(auth)"
   ]
  },
  {
   "cell_type": "code",
   "execution_count": 9,
   "metadata": {
    "collapsed": true
   },
   "outputs": [],
   "source": [
    "# using search method for keyword bitcoin:\n",
    "public_tweets = api.search(\"bitcoin\")"
   ]
  },
  {
   "cell_type": "code",
   "execution_count": 10,
   "metadata": {},
   "outputs": [
    {
     "name": "stdout",
     "output_type": "stream",
     "text": [
      "RT @IO_Coin: This Tuesday Feb 13th, 2018 we are releasing I/O Coin DIONS API V.1 along with updated Wallets. This will be a new beginning f…\n",
      "Sentiment(polarity=0.06818181818181818, subjectivity=0.22727272727272727)\n",
      "RT @TheBlueMatt: @cryptograffiti @La__Cuen Yay, you found New Zatoshi. Now don't believe every idiot wandering in and claiming to be the cr…\n",
      "Sentiment(polarity=-0.33181818181818185, subjectivity=0.6272727272727273)\n",
      "RT @btc_green: Did you know that #Bitcoin uses more energy than all of the orange countries? We need to build a sustainable future for #cry…\n",
      "Sentiment(polarity=0.25, subjectivity=0.3125)\n",
      "RT @wheelswordsmith: while she never actually wrote it into the books jk rowling has confirmed that draco malfoy was a libertarian vape ent…\n",
      "Sentiment(polarity=0.2, subjectivity=0.55)\n"
     ]
    }
   ],
   "source": [
    "for tweet in public_tweets:\n",
    "    print(tweet.text)\n",
    "    analysis = TextBlob(tweet.text)\n",
    "    print(analysis.sentiment)"
   ]
  },
  {
   "cell_type": "code",
   "execution_count": 11,
   "metadata": {
    "collapsed": true
   },
   "outputs": [],
   "source": [
    "# Prepare the parameters:\n",
    "# List of top 10 crytocurrencies as of Feb, 2018:\n",
    "coin_names = ['Bitcoin', 'Ethereum', 'Ripple', 'Bitcoin Cash', \n",
    "              'Cardano', 'Litecoin', 'Stellar', 'NEO','EOS', 'IOTA']\n",
    "# hashtag related to the coin\n",
    "hashtag = \"cryptocurrency\"\n",
    "# time interval is set to 30 most recent days:\n",
    "since_date = (datetime.now() - timedelta(days=30)).strftime (\"%Y-%m-%d\")\n",
    "until_date = datetime.now().strftime (\"%Y-%m-%d\")"
   ]
  },
  {
   "cell_type": "code",
   "execution_count": 12,
   "metadata": {
    "collapsed": true
   },
   "outputs": [],
   "source": [
    "# retrieve tweets and store in a dictionary:\n",
    "all_polarities = dict()\n",
    "for coin in coin_names:\n",
    "    this_coin_polarities = []\n",
    "    this_coin_tweets = api.search(q= [hashtag, coin], count = 100, since = since_date, until = until_date)\n",
    "    for tweet in this_coin_tweets:\n",
    "        analysis = TextBlob(tweet.text)\n",
    "        #Get the label corresponding to the sentiment analysis\n",
    "        this_coin_polarities.append(analysis.sentiment[0])\n",
    "    #Save the mean for final results\n",
    "    all_polarities[coin] = np.mean(this_coin_polarities)"
   ]
  },
  {
   "cell_type": "code",
   "execution_count": 13,
   "metadata": {
    "collapsed": true
   },
   "outputs": [],
   "source": [
    "# create a function that concludes the polarity of analysis:\n",
    "def get_polarity(x, neutral = 0):\n",
    "    if x > neutral:\n",
    "        return \"Positive\"\n",
    "    elif x == 0:\n",
    "        return \"Neutral\"\n",
    "    else:\n",
    "        return \"Negative\""
   ]
  },
  {
   "cell_type": "code",
   "execution_count": 14,
   "metadata": {},
   "outputs": [
    {
     "data": {
      "text/html": [
       "<div>\n",
       "<style>\n",
       "    .dataframe thead tr:only-child th {\n",
       "        text-align: right;\n",
       "    }\n",
       "\n",
       "    .dataframe thead th {\n",
       "        text-align: left;\n",
       "    }\n",
       "\n",
       "    .dataframe tbody tr th {\n",
       "        vertical-align: top;\n",
       "    }\n",
       "</style>\n",
       "<table border=\"1\" class=\"dataframe\">\n",
       "  <thead>\n",
       "    <tr style=\"text-align: right;\">\n",
       "      <th></th>\n",
       "      <th>Crypto Currency</th>\n",
       "      <th>Polarity</th>\n",
       "      <th>Sentiment</th>\n",
       "    </tr>\n",
       "  </thead>\n",
       "  <tbody>\n",
       "    <tr>\n",
       "      <th>0</th>\n",
       "      <td>Bitcoin</td>\n",
       "      <td>0.137041</td>\n",
       "      <td>Positive</td>\n",
       "    </tr>\n",
       "    <tr>\n",
       "      <th>1</th>\n",
       "      <td>Ethereum</td>\n",
       "      <td>0.142488</td>\n",
       "      <td>Positive</td>\n",
       "    </tr>\n",
       "    <tr>\n",
       "      <th>2</th>\n",
       "      <td>Ripple</td>\n",
       "      <td>0.098942</td>\n",
       "      <td>Positive</td>\n",
       "    </tr>\n",
       "    <tr>\n",
       "      <th>3</th>\n",
       "      <td>Bitcoin Cash</td>\n",
       "      <td>0.157614</td>\n",
       "      <td>Positive</td>\n",
       "    </tr>\n",
       "    <tr>\n",
       "      <th>4</th>\n",
       "      <td>Cardano</td>\n",
       "      <td>0.071194</td>\n",
       "      <td>Positive</td>\n",
       "    </tr>\n",
       "    <tr>\n",
       "      <th>5</th>\n",
       "      <td>Litecoin</td>\n",
       "      <td>0.158046</td>\n",
       "      <td>Positive</td>\n",
       "    </tr>\n",
       "    <tr>\n",
       "      <th>6</th>\n",
       "      <td>Stellar</td>\n",
       "      <td>0.332979</td>\n",
       "      <td>Positive</td>\n",
       "    </tr>\n",
       "    <tr>\n",
       "      <th>7</th>\n",
       "      <td>NEO</td>\n",
       "      <td>0.245851</td>\n",
       "      <td>Positive</td>\n",
       "    </tr>\n",
       "    <tr>\n",
       "      <th>8</th>\n",
       "      <td>EOS</td>\n",
       "      <td>0.365854</td>\n",
       "      <td>Positive</td>\n",
       "    </tr>\n",
       "    <tr>\n",
       "      <th>9</th>\n",
       "      <td>IOTA</td>\n",
       "      <td>0.229374</td>\n",
       "      <td>Positive</td>\n",
       "    </tr>\n",
       "  </tbody>\n",
       "</table>\n",
       "</div>"
      ],
      "text/plain": [
       "  Crypto Currency  Polarity Sentiment\n",
       "0         Bitcoin  0.137041  Positive\n",
       "1        Ethereum  0.142488  Positive\n",
       "2          Ripple  0.098942  Positive\n",
       "3    Bitcoin Cash  0.157614  Positive\n",
       "4         Cardano  0.071194  Positive\n",
       "5        Litecoin  0.158046  Positive\n",
       "6         Stellar  0.332979  Positive\n",
       "7             NEO  0.245851  Positive\n",
       "8             EOS  0.365854  Positive\n",
       "9            IOTA  0.229374  Positive"
      ]
     },
     "execution_count": 14,
     "metadata": {},
     "output_type": "execute_result"
    }
   ],
   "source": [
    "# summarize the result using pandas dataframe:\n",
    "summary = pd.DataFrame(list(all_polarities.items()), columns=['Crypto Currency', 'Polarity'])\n",
    "summary['Sentiment'] = summary.Polarity.apply(get_polarity)\n",
    "summary"
   ]
  },
  {
   "cell_type": "code",
   "execution_count": 15,
   "metadata": {
    "collapsed": true
   },
   "outputs": [],
   "source": [
    "# sort the dictionary based on values using operator\n",
    "import operator\n",
    "all_polarities = dict(sorted(all_polarities.items(), key=operator.itemgetter(1),reverse=True))"
   ]
  },
  {
   "cell_type": "code",
   "execution_count": 16,
   "metadata": {},
   "outputs": [
    {
     "data": {
      "image/png": "[encoded data removed]",
      "text/plain": [
       "<matplotlib.figure.Figure at 0x1a0d30b2e8>"
      ]
     },
     "metadata": {},
     "output_type": "display_data"
    }
   ],
   "source": [
    "# visualize the data\n",
    "plt.figure(figsize=(13,10))\n",
    "plt.bar(range(len(all_polarities)), list(all_polarities.values()), align = 'center')\n",
    "plt.xticks(range(len(all_polarities)), list(all_polarities.keys()))\n",
    "plt.xlabel(\"Crypto Currency\")\n",
    "plt.ylabel(\"Sentiment Polarity\")\n",
    "plt.show()"
   ]
  },
  {
   "cell_type": "code",
   "execution_count": null,
   "metadata": {
    "collapsed": true
   },
   "outputs": [],
   "source": []
  }
 ],
 "metadata": {
  "kernelspec": {
   "display_name": "Python [conda root]",
   "language": "python",
   "name": "conda-root-py"
  },
  "language_info": {
   "codemirror_mode": {
    "name": "ipython",
    "version": 3
   },
   "file_extension": ".py",
   "mimetype": "text/x-python",
   "name": "python",
   "nbconvert_exporter": "python",
   "pygments_lexer": "ipython3",
   "version": "3.6.3"
  }
 },
 "nbformat": 4,
 "nbformat_minor": 2
}
